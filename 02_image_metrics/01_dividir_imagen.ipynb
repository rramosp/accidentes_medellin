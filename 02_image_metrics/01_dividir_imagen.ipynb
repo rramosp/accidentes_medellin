{
 "cells": [
  {
   "cell_type": "code",
   "execution_count": 1,
   "metadata": {},
   "outputs": [],
   "source": [
    "# cargar librerías\n",
    "\n",
    "import matplotlib\n",
    "from matplotlib import pyplot\n",
    "import rasterio\n",
    "from rasterio import mask\n",
    "from rasterio.plot import show\n",
    "import geopandas as gpd\n",
    "import fiona"
   ]
  },
  {
   "cell_type": "code",
   "execution_count": 2,
   "metadata": {},
   "outputs": [],
   "source": [
    "# rutas a imagen sin cortar y shapefiles con mallas regulares\n",
    "\n",
    "image_path = \"../../../../RSdata/MDE_GoogleEarth/img_prep/mde_z18_s_p.dat\"\n",
    "shp_m500_path = \"../Datos/1_square_grids/m500.shp\"\n",
    "shp_m350_path = \"../Datos/1_square_grids/m350.shp\"\n",
    "shp_m250_path = \"../Datos/1_square_grids/m250.shp\""
   ]
  },
  {
   "cell_type": "code",
   "execution_count": 3,
   "metadata": {},
   "outputs": [],
   "source": [
    "# cargar imagen\n",
    "\n",
    "img = rasterio.open(image_path)"
   ]
  },
  {
   "cell_type": "code",
   "execution_count": 4,
   "metadata": {},
   "outputs": [],
   "source": [
    "# clip con celdas del shapefile m500\n",
    "shp = fiona.open(shp_m500_path)\n",
    "\n",
    "for feat in shp:\n",
    "    name = feat['properties']['id']\n",
    "    out_path = \"../../1_img_tiles/tiles_m500/\" + str(name) + \".tif\"\n",
    "    crop_poly = [feat['geometry']]\n",
    "    out_image, out_transform = mask.mask(img, crop_poly, crop=True)\n",
    "    out_meta = img.meta.copy()\n",
    "    out_meta.update({\"driver\": \"GTiff\", \\\n",
    "                 \"height\": out_image.shape[1], \\\n",
    "                 \"width\": out_image.shape[2], \\\n",
    "                 \"transform\": out_transform})\n",
    "    with rasterio.open(out_path, \"w\", **out_meta) as dest:\n",
    "        dest.write(out_image)"
   ]
  },
  {
   "cell_type": "code",
   "execution_count": 5,
   "metadata": {},
   "outputs": [],
   "source": [
    "# clip con celdas del shapefile m350\n",
    "shp = fiona.open(shp_m350_path)\n",
    "\n",
    "for feat in shp:\n",
    "    name = feat['properties']['id']\n",
    "    out_path = \"../../1_img_tiles/tiles_m350/\" + str(name) + \".tif\"\n",
    "    crop_poly = [feat['geometry']]\n",
    "    out_image, out_transform = mask.mask(img, crop_poly, crop=True)\n",
    "    out_meta = img.meta.copy()\n",
    "    out_meta.update({\"driver\": \"GTiff\", \\\n",
    "                 \"height\": out_image.shape[1], \\\n",
    "                 \"width\": out_image.shape[2], \\\n",
    "                 \"transform\": out_transform})\n",
    "    with rasterio.open(out_path, \"w\", **out_meta) as dest:\n",
    "        dest.write(out_image)"
   ]
  },
  {
   "cell_type": "code",
   "execution_count": 6,
   "metadata": {},
   "outputs": [],
   "source": [
    "# clip con celdas del shapefile m250\n",
    "shp = fiona.open(shp_m250_path)\n",
    "\n",
    "for feat in shp:\n",
    "    name = feat['properties']['id']\n",
    "    out_path = \"../../1_img_tiles/tiles_m250/\" + str(name) + \".tif\"\n",
    "    crop_poly = [feat['geometry']]\n",
    "    out_image, out_transform = mask.mask(img, crop_poly, crop=True)\n",
    "    out_meta = img.meta.copy()\n",
    "    out_meta.update({\"driver\": \"GTiff\", \\\n",
    "                 \"height\": out_image.shape[1], \\\n",
    "                 \"width\": out_image.shape[2], \\\n",
    "                 \"transform\": out_transform})\n",
    "    with rasterio.open(out_path, \"w\", **out_meta) as dest:\n",
    "        dest.write(out_image)"
   ]
  },
  {
   "cell_type": "code",
   "execution_count": null,
   "metadata": {},
   "outputs": [],
   "source": []
  }
 ],
 "metadata": {
  "kernelspec": {
   "display_name": "Python 3",
   "language": "python",
   "name": "python3"
  },
  "language_info": {
   "codemirror_mode": {
    "name": "ipython",
    "version": 3
   },
   "file_extension": ".py",
   "mimetype": "text/x-python",
   "name": "python",
   "nbconvert_exporter": "python",
   "pygments_lexer": "ipython3",
   "version": "3.6.4"
  }
 },
 "nbformat": 4,
 "nbformat_minor": 2
}
