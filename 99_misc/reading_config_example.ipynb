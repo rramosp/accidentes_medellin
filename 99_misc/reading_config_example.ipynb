{
 "cells": [
  {
   "cell_type": "code",
   "execution_count": 54,
   "metadata": {},
   "outputs": [],
   "source": [
    "import numpy as np\n",
    "import matplotlib.pyplot as plt\n",
    "from ConfigParser import ConfigParser\n",
    "import pandas as pd\n",
    "%matplotlib inline"
   ]
  },
  {
   "cell_type": "markdown",
   "metadata": {},
   "source": [
    "### load config"
   ]
  },
  {
   "cell_type": "code",
   "execution_count": 69,
   "metadata": {},
   "outputs": [
    {
     "data": {
      "text/plain": [
       "['../config.ini']"
      ]
     },
     "execution_count": 69,
     "metadata": {},
     "output_type": "execute_result"
    }
   ],
   "source": [
    "cfg = ConfigParser()\n",
    "cfg.read(\"../config.ini\")"
   ]
  },
  {
   "cell_type": "markdown",
   "metadata": {},
   "source": [
    "### read string properties"
   ]
  },
  {
   "cell_type": "code",
   "execution_count": 70,
   "metadata": {},
   "outputs": [
    {
     "data": {
      "text/plain": [
       "'/Users/rlx/datasets/accidentes-medellin'"
      ]
     },
     "execution_count": 70,
     "metadata": {},
     "output_type": "execute_result"
    }
   ],
   "source": [
    "data_dir = cfg.get(\"dirs\", \"data\")\n",
    "data_dir"
   ]
  },
  {
   "cell_type": "code",
   "execution_count": 71,
   "metadata": {},
   "outputs": [
    {
     "data": {
      "text/plain": [
       "'/Users/rlx/datasets/accidentes-medellin/3_fetex'"
      ]
     },
     "execution_count": 71,
     "metadata": {},
     "output_type": "execute_result"
    }
   ],
   "source": [
    "fetex_dir = cfg.get(\"dirs\", \"fetex\")\n",
    "fetex_dir"
   ]
  },
  {
   "cell_type": "code",
   "execution_count": 72,
   "metadata": {},
   "outputs": [
    {
     "data": {
      "text/plain": [
       "'/Users/rlx/datasets/accidentes-medellin/4_accidentes'"
      ]
     },
     "execution_count": 72,
     "metadata": {},
     "output_type": "execute_result"
    }
   ],
   "source": [
    "accidents_dir = cfg.get(\"dirs\", \"accidentes\")\n",
    "accidents_dir"
   ]
  },
  {
   "cell_type": "code",
   "execution_count": 76,
   "metadata": {},
   "outputs": [
    {
     "data": {
      "text/plain": [
       "'satellite image tiles covering an area of 250m x 250m'"
      ]
     },
     "execution_count": 76,
     "metadata": {},
     "output_type": "execute_result"
    }
   ],
   "source": [
    "m250_desc = cfg.get(\"grid\", \"m250_desc\")\n",
    "m250_desc"
   ]
  },
  {
   "cell_type": "code",
   "execution_count": 78,
   "metadata": {},
   "outputs": [
    {
     "data": {
      "text/plain": [
       "'m250'"
      ]
     },
     "execution_count": 78,
     "metadata": {},
     "output_type": "execute_result"
    }
   ],
   "source": [
    "grid_id = cfg.get(\"grid\", \"default\")\n",
    "grid_id"
   ]
  },
  {
   "cell_type": "markdown",
   "metadata": {},
   "source": [
    "### using properties"
   ]
  },
  {
   "cell_type": "code",
   "execution_count": 79,
   "metadata": {},
   "outputs": [],
   "source": [
    "fet = pd.read_csv(\"%s/r_fetex_%s.txt\"%(fetex_dir, grid_id))"
   ]
  },
  {
   "cell_type": "code",
   "execution_count": 80,
   "metadata": {},
   "outputs": [
    {
     "data": {
      "text/html": [
       "<div>\n",
       "<style scoped>\n",
       "    .dataframe tbody tr th:only-of-type {\n",
       "        vertical-align: middle;\n",
       "    }\n",
       "\n",
       "    .dataframe tbody tr th {\n",
       "        vertical-align: top;\n",
       "    }\n",
       "\n",
       "    .dataframe thead th {\n",
       "        text-align: right;\n",
       "    }\n",
       "</style>\n",
       "<table border=\"1\" class=\"dataframe\">\n",
       "  <thead>\n",
       "    <tr style=\"text-align: right;\">\n",
       "      <th></th>\n",
       "      <th>ID</th>\n",
       "      <th>MEAN1</th>\n",
       "      <th>DEVST1</th>\n",
       "      <th>MAJORITY1</th>\n",
       "      <th>MEAN2</th>\n",
       "      <th>DEVST2</th>\n",
       "      <th>MAJORITY2</th>\n",
       "      <th>MEAN3</th>\n",
       "      <th>DEVST3</th>\n",
       "      <th>MAJORITY3</th>\n",
       "      <th>...</th>\n",
       "      <th>VFM</th>\n",
       "      <th>DMF</th>\n",
       "      <th>RMM</th>\n",
       "      <th>SDF</th>\n",
       "      <th>AFM</th>\n",
       "      <th>DMS</th>\n",
       "      <th>DMM</th>\n",
       "      <th>HA</th>\n",
       "      <th>PROCESSED</th>\n",
       "      <th>SAMPLE</th>\n",
       "    </tr>\n",
       "  </thead>\n",
       "  <tbody>\n",
       "    <tr>\n",
       "      <th>0</th>\n",
       "      <td>24</td>\n",
       "      <td>138.62375</td>\n",
       "      <td>65.039584</td>\n",
       "      <td>255</td>\n",
       "      <td>138.79409</td>\n",
       "      <td>63.933602</td>\n",
       "      <td>255</td>\n",
       "      <td>147.65069</td>\n",
       "      <td>64.072203</td>\n",
       "      <td>255</td>\n",
       "      <td>...</td>\n",
       "      <td>1.912110</td>\n",
       "      <td>1778.5997</td>\n",
       "      <td>1.431534</td>\n",
       "      <td>-867.98084</td>\n",
       "      <td>13454.671</td>\n",
       "      <td>0.0</td>\n",
       "      <td>0.0</td>\n",
       "      <td>0.0</td>\n",
       "      <td>Yes</td>\n",
       "      <td>?</td>\n",
       "    </tr>\n",
       "    <tr>\n",
       "      <th>1</th>\n",
       "      <td>25</td>\n",
       "      <td>148.91463</td>\n",
       "      <td>63.155302</td>\n",
       "      <td>255</td>\n",
       "      <td>147.08342</td>\n",
       "      <td>62.889769</td>\n",
       "      <td>255</td>\n",
       "      <td>156.95074</td>\n",
       "      <td>61.992079</td>\n",
       "      <td>255</td>\n",
       "      <td>...</td>\n",
       "      <td>1.709328</td>\n",
       "      <td>1844.4887</td>\n",
       "      <td>1.394853</td>\n",
       "      <td>-972.98304</td>\n",
       "      <td>14314.686</td>\n",
       "      <td>0.0</td>\n",
       "      <td>0.0</td>\n",
       "      <td>0.0</td>\n",
       "      <td>Yes</td>\n",
       "      <td>?</td>\n",
       "    </tr>\n",
       "    <tr>\n",
       "      <th>2</th>\n",
       "      <td>26</td>\n",
       "      <td>152.04173</td>\n",
       "      <td>57.130633</td>\n",
       "      <td>147</td>\n",
       "      <td>147.28840</td>\n",
       "      <td>58.243407</td>\n",
       "      <td>255</td>\n",
       "      <td>158.09718</td>\n",
       "      <td>56.659502</td>\n",
       "      <td>255</td>\n",
       "      <td>...</td>\n",
       "      <td>1.493061</td>\n",
       "      <td>1821.9639</td>\n",
       "      <td>1.340785</td>\n",
       "      <td>-1070.60850</td>\n",
       "      <td>14469.819</td>\n",
       "      <td>0.0</td>\n",
       "      <td>0.0</td>\n",
       "      <td>0.0</td>\n",
       "      <td>Yes</td>\n",
       "      <td>?</td>\n",
       "    </tr>\n",
       "    <tr>\n",
       "      <th>3</th>\n",
       "      <td>27</td>\n",
       "      <td>140.44338</td>\n",
       "      <td>63.509666</td>\n",
       "      <td>160</td>\n",
       "      <td>130.59798</td>\n",
       "      <td>61.395751</td>\n",
       "      <td>137</td>\n",
       "      <td>137.67384</td>\n",
       "      <td>59.860013</td>\n",
       "      <td>141</td>\n",
       "      <td>...</td>\n",
       "      <td>1.781270</td>\n",
       "      <td>1761.4167</td>\n",
       "      <td>1.411630</td>\n",
       "      <td>-896.41898</td>\n",
       "      <td>13457.297</td>\n",
       "      <td>0.0</td>\n",
       "      <td>0.0</td>\n",
       "      <td>0.0</td>\n",
       "      <td>Yes</td>\n",
       "      <td>?</td>\n",
       "    </tr>\n",
       "    <tr>\n",
       "      <th>4</th>\n",
       "      <td>28</td>\n",
       "      <td>127.22372</td>\n",
       "      <td>65.959904</td>\n",
       "      <td>67</td>\n",
       "      <td>122.41322</td>\n",
       "      <td>62.772888</td>\n",
       "      <td>255</td>\n",
       "      <td>128.08879</td>\n",
       "      <td>61.548189</td>\n",
       "      <td>70</td>\n",
       "      <td>...</td>\n",
       "      <td>2.021067</td>\n",
       "      <td>1606.0595</td>\n",
       "      <td>1.476514</td>\n",
       "      <td>-701.53900</td>\n",
       "      <td>11887.853</td>\n",
       "      <td>0.0</td>\n",
       "      <td>0.0</td>\n",
       "      <td>0.0</td>\n",
       "      <td>Yes</td>\n",
       "      <td>?</td>\n",
       "    </tr>\n",
       "  </tbody>\n",
       "</table>\n",
       "<p>5 rows × 37 columns</p>\n",
       "</div>"
      ],
      "text/plain": [
       "   ID      MEAN1     DEVST1  MAJORITY1      MEAN2     DEVST2  MAJORITY2  \\\n",
       "0  24  138.62375  65.039584        255  138.79409  63.933602        255   \n",
       "1  25  148.91463  63.155302        255  147.08342  62.889769        255   \n",
       "2  26  152.04173  57.130633        147  147.28840  58.243407        255   \n",
       "3  27  140.44338  63.509666        160  130.59798  61.395751        137   \n",
       "4  28  127.22372  65.959904         67  122.41322  62.772888        255   \n",
       "\n",
       "       MEAN3     DEVST3  MAJORITY3   ...         VFM        DMF       RMM  \\\n",
       "0  147.65069  64.072203        255   ...    1.912110  1778.5997  1.431534   \n",
       "1  156.95074  61.992079        255   ...    1.709328  1844.4887  1.394853   \n",
       "2  158.09718  56.659502        255   ...    1.493061  1821.9639  1.340785   \n",
       "3  137.67384  59.860013        141   ...    1.781270  1761.4167  1.411630   \n",
       "4  128.08879  61.548189         70   ...    2.021067  1606.0595  1.476514   \n",
       "\n",
       "          SDF        AFM  DMS  DMM   HA  PROCESSED  SAMPLE  \n",
       "0  -867.98084  13454.671  0.0  0.0  0.0        Yes       ?  \n",
       "1  -972.98304  14314.686  0.0  0.0  0.0        Yes       ?  \n",
       "2 -1070.60850  14469.819  0.0  0.0  0.0        Yes       ?  \n",
       "3  -896.41898  13457.297  0.0  0.0  0.0        Yes       ?  \n",
       "4  -701.53900  11887.853  0.0  0.0  0.0        Yes       ?  \n",
       "\n",
       "[5 rows x 37 columns]"
      ]
     },
     "execution_count": 80,
     "metadata": {},
     "output_type": "execute_result"
    }
   ],
   "source": [
    "fet.head()"
   ]
  },
  {
   "cell_type": "code",
   "execution_count": 68,
   "metadata": {},
   "outputs": [
    {
     "data": {
      "text/html": [
       "<div>\n",
       "<style scoped>\n",
       "    .dataframe tbody tr th:only-of-type {\n",
       "        vertical-align: middle;\n",
       "    }\n",
       "\n",
       "    .dataframe tbody tr th {\n",
       "        vertical-align: top;\n",
       "    }\n",
       "\n",
       "    .dataframe thead th {\n",
       "        text-align: right;\n",
       "    }\n",
       "</style>\n",
       "<table border=\"1\" class=\"dataframe\">\n",
       "  <thead>\n",
       "    <tr style=\"text-align: right;\">\n",
       "      <th></th>\n",
       "      <th>id</th>\n",
       "      <th>xmin</th>\n",
       "      <th>xmax</th>\n",
       "      <th>ymin</th>\n",
       "      <th>ymax</th>\n",
       "      <th>geometry</th>\n",
       "      <th>All</th>\n",
       "      <th>Atropello</th>\n",
       "      <th>Caida Ocupante</th>\n",
       "      <th>Choque</th>\n",
       "      <th>...</th>\n",
       "      <th>MOTOCARRO</th>\n",
       "      <th>MOTOCICLETA</th>\n",
       "      <th>MOTOCICLO</th>\n",
       "      <th>REMOLQUE</th>\n",
       "      <th>TRACCION ANIMAL</th>\n",
       "      <th>TRACTO-CAMION REMOLQUE</th>\n",
       "      <th>TRACTOCAMION</th>\n",
       "      <th>TRACTOR</th>\n",
       "      <th>TRICICLO</th>\n",
       "      <th>VOLQUETA</th>\n",
       "    </tr>\n",
       "  </thead>\n",
       "  <tbody>\n",
       "    <tr>\n",
       "      <th>0</th>\n",
       "      <td>24</td>\n",
       "      <td>833898.497295</td>\n",
       "      <td>834148.497295</td>\n",
       "      <td>1.189812e+06</td>\n",
       "      <td>1.190062e+06</td>\n",
       "      <td>POLYGON ((833898.497295 1190061.7146, 834148.4...</td>\n",
       "      <td>0.0</td>\n",
       "      <td>0.0</td>\n",
       "      <td>0.0</td>\n",
       "      <td>0.0</td>\n",
       "      <td>...</td>\n",
       "      <td>0.0</td>\n",
       "      <td>0.0</td>\n",
       "      <td>0.0</td>\n",
       "      <td>0.0</td>\n",
       "      <td>0.0</td>\n",
       "      <td>0.0</td>\n",
       "      <td>0.0</td>\n",
       "      <td>0.0</td>\n",
       "      <td>0.0</td>\n",
       "      <td>0.0</td>\n",
       "    </tr>\n",
       "    <tr>\n",
       "      <th>1</th>\n",
       "      <td>25</td>\n",
       "      <td>834148.497295</td>\n",
       "      <td>834398.497295</td>\n",
       "      <td>1.189812e+06</td>\n",
       "      <td>1.190062e+06</td>\n",
       "      <td>POLYGON ((834148.497295 1190061.7146, 834398.4...</td>\n",
       "      <td>2.0</td>\n",
       "      <td>0.0</td>\n",
       "      <td>0.0</td>\n",
       "      <td>0.0</td>\n",
       "      <td>...</td>\n",
       "      <td>0.0</td>\n",
       "      <td>2.0</td>\n",
       "      <td>0.0</td>\n",
       "      <td>0.0</td>\n",
       "      <td>0.0</td>\n",
       "      <td>0.0</td>\n",
       "      <td>0.0</td>\n",
       "      <td>0.0</td>\n",
       "      <td>0.0</td>\n",
       "      <td>0.0</td>\n",
       "    </tr>\n",
       "    <tr>\n",
       "      <th>2</th>\n",
       "      <td>26</td>\n",
       "      <td>834398.497295</td>\n",
       "      <td>834648.497295</td>\n",
       "      <td>1.189812e+06</td>\n",
       "      <td>1.190062e+06</td>\n",
       "      <td>POLYGON ((834398.497295 1190061.7146, 834648.4...</td>\n",
       "      <td>1.0</td>\n",
       "      <td>0.0</td>\n",
       "      <td>1.0</td>\n",
       "      <td>0.0</td>\n",
       "      <td>...</td>\n",
       "      <td>0.0</td>\n",
       "      <td>1.0</td>\n",
       "      <td>0.0</td>\n",
       "      <td>0.0</td>\n",
       "      <td>0.0</td>\n",
       "      <td>0.0</td>\n",
       "      <td>0.0</td>\n",
       "      <td>0.0</td>\n",
       "      <td>0.0</td>\n",
       "      <td>0.0</td>\n",
       "    </tr>\n",
       "    <tr>\n",
       "      <th>3</th>\n",
       "      <td>27</td>\n",
       "      <td>834648.497295</td>\n",
       "      <td>834898.497295</td>\n",
       "      <td>1.189812e+06</td>\n",
       "      <td>1.190062e+06</td>\n",
       "      <td>POLYGON ((834648.497295 1190061.7146, 834898.4...</td>\n",
       "      <td>0.0</td>\n",
       "      <td>0.0</td>\n",
       "      <td>0.0</td>\n",
       "      <td>0.0</td>\n",
       "      <td>...</td>\n",
       "      <td>0.0</td>\n",
       "      <td>0.0</td>\n",
       "      <td>0.0</td>\n",
       "      <td>0.0</td>\n",
       "      <td>0.0</td>\n",
       "      <td>0.0</td>\n",
       "      <td>0.0</td>\n",
       "      <td>0.0</td>\n",
       "      <td>0.0</td>\n",
       "      <td>0.0</td>\n",
       "    </tr>\n",
       "    <tr>\n",
       "      <th>4</th>\n",
       "      <td>28</td>\n",
       "      <td>834898.497295</td>\n",
       "      <td>835148.497295</td>\n",
       "      <td>1.189812e+06</td>\n",
       "      <td>1.190062e+06</td>\n",
       "      <td>POLYGON ((834898.497295 1190061.7146, 835148.4...</td>\n",
       "      <td>6.0</td>\n",
       "      <td>0.0</td>\n",
       "      <td>0.0</td>\n",
       "      <td>6.0</td>\n",
       "      <td>...</td>\n",
       "      <td>0.0</td>\n",
       "      <td>6.0</td>\n",
       "      <td>0.0</td>\n",
       "      <td>0.0</td>\n",
       "      <td>0.0</td>\n",
       "      <td>0.0</td>\n",
       "      <td>0.0</td>\n",
       "      <td>0.0</td>\n",
       "      <td>0.0</td>\n",
       "      <td>0.0</td>\n",
       "    </tr>\n",
       "  </tbody>\n",
       "</table>\n",
       "<p>5 rows × 47 columns</p>\n",
       "</div>"
      ],
      "text/plain": [
       "   id           xmin           xmax          ymin          ymax  \\\n",
       "0  24  833898.497295  834148.497295  1.189812e+06  1.190062e+06   \n",
       "1  25  834148.497295  834398.497295  1.189812e+06  1.190062e+06   \n",
       "2  26  834398.497295  834648.497295  1.189812e+06  1.190062e+06   \n",
       "3  27  834648.497295  834898.497295  1.189812e+06  1.190062e+06   \n",
       "4  28  834898.497295  835148.497295  1.189812e+06  1.190062e+06   \n",
       "\n",
       "                                            geometry  All  Atropello  \\\n",
       "0  POLYGON ((833898.497295 1190061.7146, 834148.4...  0.0        0.0   \n",
       "1  POLYGON ((834148.497295 1190061.7146, 834398.4...  2.0        0.0   \n",
       "2  POLYGON ((834398.497295 1190061.7146, 834648.4...  1.0        0.0   \n",
       "3  POLYGON ((834648.497295 1190061.7146, 834898.4...  0.0        0.0   \n",
       "4  POLYGON ((834898.497295 1190061.7146, 835148.4...  6.0        0.0   \n",
       "\n",
       "   Caida Ocupante  Choque    ...     MOTOCARRO  MOTOCICLETA  MOTOCICLO  \\\n",
       "0             0.0     0.0    ...           0.0          0.0        0.0   \n",
       "1             0.0     0.0    ...           0.0          2.0        0.0   \n",
       "2             1.0     0.0    ...           0.0          1.0        0.0   \n",
       "3             0.0     0.0    ...           0.0          0.0        0.0   \n",
       "4             0.0     6.0    ...           0.0          6.0        0.0   \n",
       "\n",
       "   REMOLQUE  TRACCION ANIMAL  TRACTO-CAMION REMOLQUE  TRACTOCAMION  TRACTOR  \\\n",
       "0       0.0              0.0                     0.0           0.0      0.0   \n",
       "1       0.0              0.0                     0.0           0.0      0.0   \n",
       "2       0.0              0.0                     0.0           0.0      0.0   \n",
       "3       0.0              0.0                     0.0           0.0      0.0   \n",
       "4       0.0              0.0                     0.0           0.0      0.0   \n",
       "\n",
       "   TRICICLO  VOLQUETA  \n",
       "0       0.0       0.0  \n",
       "1       0.0       0.0  \n",
       "2       0.0       0.0  \n",
       "3       0.0       0.0  \n",
       "4       0.0       0.0  \n",
       "\n",
       "[5 rows x 47 columns]"
      ]
     },
     "execution_count": 68,
     "metadata": {},
     "output_type": "execute_result"
    }
   ],
   "source": [
    "acc = pd.read_csv(\"%s/%s_c.csv\"%(accidents_dir, grid_id))\n",
    "acc.head()"
   ]
  },
  {
   "cell_type": "code",
   "execution_count": null,
   "metadata": {},
   "outputs": [],
   "source": []
  }
 ],
 "metadata": {
  "kernelspec": {
   "display_name": "Python 2",
   "language": "python",
   "name": "python2"
  },
  "language_info": {
   "codemirror_mode": {
    "name": "ipython",
    "version": 2
   },
   "file_extension": ".py",
   "mimetype": "text/x-python",
   "name": "python",
   "nbconvert_exporter": "python",
   "pygments_lexer": "ipython2",
   "version": "2.7.14"
  }
 },
 "nbformat": 4,
 "nbformat_minor": 2
}
