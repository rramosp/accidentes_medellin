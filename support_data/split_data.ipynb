{
 "cells": [
  {
   "cell_type": "markdown",
   "metadata": {},
   "source": [
    "### Python 3.6"
   ]
  },
  {
   "cell_type": "code",
   "execution_count": 55,
   "metadata": {},
   "outputs": [],
   "source": [
    "import pandas as pd\n",
    "import os\n",
    "from sklearn.model_selection import train_test_split \n",
    "from configparser import ConfigParser\n",
    "\n",
    "cfg = ConfigParser()\n",
    "cfg.read('../config.ini')\n",
    "grid_id = cfg.get('grid', 'default')\n",
    "\n",
    "m250 = pd.read_csv('labels_4classes_m250.csv')\n",
    "\n",
    "x = m250.id\n",
    "y = m250.label\n",
    "\n",
    "x_train, x_test, y_train, y_test \\\n",
    "    = train_test_split(x, y, test_size=0.3, random_state=1)\n",
    "    \n",
    "m250_train = pd.DataFrame({'id': x_train, 'label': y_train}).sort_values('id').reset_index(drop=True)\n",
    "m250_test = pd.DataFrame({'id': x_test, 'label': y_test}).sort_values('id').reset_index(drop=True)"
   ]
  },
  {
   "cell_type": "code",
   "execution_count": 56,
   "metadata": {},
   "outputs": [
    {
     "data": {
      "text/plain": [
       "2    336\n",
       "1    326\n",
       "3    325\n",
       "0    277\n",
       "Name: label, dtype: int64"
      ]
     },
     "execution_count": 56,
     "metadata": {},
     "output_type": "execute_result"
    }
   ],
   "source": [
    "m250_train.label.value_counts()"
   ]
  },
  {
   "cell_type": "code",
   "execution_count": 57,
   "metadata": {},
   "outputs": [
    {
     "data": {
      "text/plain": [
       "3    154\n",
       "2    131\n",
       "1    130\n",
       "0    127\n",
       "Name: label, dtype: int64"
      ]
     },
     "execution_count": 57,
     "metadata": {},
     "output_type": "execute_result"
    }
   ],
   "source": [
    "m250_test.label.value_counts()"
   ]
  },
  {
   "cell_type": "code",
   "execution_count": 59,
   "metadata": {},
   "outputs": [],
   "source": [
    "if not os.path.exists(f'{grid_id}'):\n",
    "    os.mkdir(f'{grid_id}')\n",
    "\n",
    "m250_train.to_csv(f'{grid_id}/train.csv', index=False)\n",
    "m250_test.to_csv(f'{grid_id}/test.csv', index=False)"
   ]
  },
  {
   "cell_type": "code",
   "execution_count": null,
   "metadata": {},
   "outputs": [],
   "source": []
  }
 ],
 "metadata": {
  "kernelspec": {
   "display_name": "Python 3",
   "language": "python",
   "name": "python3"
  },
  "language_info": {
   "codemirror_mode": {
    "name": "ipython",
    "version": 3
   },
   "file_extension": ".py",
   "mimetype": "text/x-python",
   "name": "python",
   "nbconvert_exporter": "python",
   "pygments_lexer": "ipython3",
   "version": "3.6.3"
  }
 },
 "nbformat": 4,
 "nbformat_minor": 2
}
