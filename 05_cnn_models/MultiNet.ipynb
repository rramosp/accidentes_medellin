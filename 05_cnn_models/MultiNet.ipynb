{
 "cells": [
  {
   "cell_type": "code",
   "execution_count": 24,
   "metadata": {},
   "outputs": [
    {
     "name": "stdout",
     "output_type": "stream",
     "text": [
      "using m250\n"
     ]
    }
   ],
   "source": [
    "import os\n",
    "import pandas as pd\n",
    "from configparser import ConfigParser\n",
    "\n",
    "cfg = ConfigParser()\n",
    "cfg.read('../config.ini')\n",
    "imgs_dir = cfg.get('dirs', 'img_tiles')\n",
    "fetex_dir = cfg.get('dirs','fetex')\n",
    "accidents_dir = cfg.get('dirs', 'accidentes')\n",
    "metrics_dir = cfg.get('dirs', 'road_metrics')\n",
    "grid_id = cfg.get('grid', 'default')\n",
    "print(f'using {grid_id}')"
   ]
  },
  {
   "cell_type": "markdown",
   "metadata": {},
   "source": [
    "1\\. Read the labels file created"
   ]
  },
  {
   "cell_type": "code",
   "execution_count": 25,
   "metadata": {},
   "outputs": [],
   "source": [
    "train = pd.read_csv(f'../support_data/{grid_id}/train.csv')\n",
    "test = pd.read_csv(f'../support_data/{grid_id}/test.csv')"
   ]
  },
  {
   "cell_type": "markdown",
   "metadata": {},
   "source": [
    "2\\. Using that split we create both image and metric splits\n",
    "\n",
    "- Images split"
   ]
  },
  {
   "cell_type": "code",
   "execution_count": null,
   "metadata": {},
   "outputs": [],
   "source": []
  },
  {
   "cell_type": "markdown",
   "metadata": {},
   "source": [
    "- Csv data split"
   ]
  },
  {
   "cell_type": "code",
   "execution_count": 26,
   "metadata": {},
   "outputs": [],
   "source": [
    "def clean_up_columns(data):\n",
    "    data.columns = map(str.lower, data.columns)\n",
    "    data.columns = map(str.strip, data.columns)\n",
    "    if 'geometry' in data.columns:\n",
    "        data.drop('geometry', axis=1, inplace=True)\n",
    "    if 'processed' in data.columns:\n",
    "        data.drop('processed', axis=1, inplace=True)\n",
    "    if 'sample' in data.columns:\n",
    "        data.drop('sample', axis=1, inplace=True)\n",
    "    data = data.dropna()\n",
    "    return data\n",
    "\n",
    "def join_dataframes(*multiple_df):\n",
    "    output = []\n",
    "    for df in multiple_df:\n",
    "        if len(output):\n",
    "            output = df.join(output)\n",
    "        else:\n",
    "            output = df\n",
    "    print(output.dropna().shape)\n",
    "    return output.dropna()       \n",
    "\n",
    "\n",
    "# Load Accidents\n",
    "accidents = pd.read_csv(f'{accidents_dir}/{grid_id}_c.csv')\n",
    "accidents = clean_up_columns(accidents) \n",
    "accidents.set_index('id', inplace=True)\n",
    "\n",
    "# Load Fetex\n",
    "fetex = pd.read_csv(f'{fetex_dir}/r_fetex_{grid_id}.txt')\n",
    "fetex = clean_up_columns(fetex)\n",
    "fetex.set_index('id', inplace=True)\n",
    "\n",
    "# Load metrics data\n",
    "metrics = pd.read_csv(f'{metrics_dir}/250.csv', delimiter=';')\n",
    "metrics = clean_up_columns(metrics)\n",
    "metrics.set_index('id', inplace=True)"
   ]
  },
  {
   "cell_type": "code",
   "execution_count": 27,
   "metadata": {},
   "outputs": [
    {
     "name": "stdout",
     "output_type": "stream",
     "text": [
      "(1019, 51)\n",
      "(446, 51)\n"
     ]
    }
   ],
   "source": [
    "# Load train/test split\n",
    "train = pd.read_csv(f'../support_data/{grid_id}/train.csv', index_col='id')\n",
    "test = pd.read_csv(f'../support_data/{grid_id}/test.csv', index_col='id')\n",
    "\n",
    "train = join_dataframes(train, fetex, metrics)\n",
    "test = join_dataframes(test, fetex, metrics)\n",
    "\n",
    "data = {'train':train, 'test':test}\n",
    "\n",
    "x_train, y_train = train.drop('label', axis=1), train.label\n",
    "x_test, y_test = test.drop('label', axis=1), test.label"
   ]
  },
  {
   "cell_type": "code",
   "execution_count": 5,
   "metadata": {},
   "outputs": [
    {
     "name": "stdout",
     "output_type": "stream",
     "text": [
      "train 0\n",
      "train 1\n",
      "train 3\n",
      "train 2\n",
      "test 0\n",
      "test 3\n",
      "test 2\n",
      "test 1\n"
     ]
    }
   ],
   "source": [
    "# Images split\n",
    "for split, df in data.items():\n",
    "    labels = df.label.unique().tolist()\n",
    "    split_imgs_path = f'{imgs_dir}/{grid_id}/{split}'\n",
    "    \n",
    "    if not os.path.exists(split_imgs_path):\n",
    "        os.mkdir(split_imgs_path)\n",
    "        \n",
    "    for label in labels:\n",
    "        label = int(label)\n",
    "        ids = df[df['label'] == label].index.tolist()\n",
    "        label_dir = f'{split_imgs_path}/{label}'\n",
    "        if not os.path.exists(label_dir):\n",
    "            os.mkdir(label_dir)\n",
    "        print(split, label)\n",
    "        for idx in ids:\n",
    "            if os.path.exists(f'{imgs_dir}/{grid_id}/jpg/{idx}.jpg'):\n",
    "                #print(os.path.exists(f'{imgs_dir}/{grid_id}/jpg/{idx}.jpg'))\n",
    "                os.rename(f'{imgs_dir}/{grid_id}/jpg/{idx}.jpg',\n",
    "                          f'{imgs_dir}/{grid_id}/{split}/{label}/{idx}.jpg')"
   ]
  },
  {
   "cell_type": "code",
   "execution_count": 6,
   "metadata": {},
   "outputs": [],
   "source": [
    "_, features = x_train.shape"
   ]
  },
  {
   "cell_type": "markdown",
   "metadata": {},
   "source": [
    "---\n",
    "\n",
    "Una vez creado el split de imágenes podemos usar keras para hacer la clasificación."
   ]
  },
  {
   "cell_type": "code",
   "execution_count": 11,
   "metadata": {},
   "outputs": [],
   "source": [
    "# Multiple inputs\n",
    "import numpy as np\n",
    "from keras.utils import plot_model\n",
    "from keras.models import Model\n",
    "from keras.layers import Input, Dense, Flatten, Dropout\n",
    "from keras.layers.convolutional import Conv2D, Convolution2D\n",
    "from keras.layers.pooling import MaxPooling2D\n",
    "from keras.layers.pooling import GlobalAveragePooling2D\n",
    "from keras.preprocessing.image import ImageDataGenerator\n",
    "from keras.optimizers import SGD\n",
    "from keras.callbacks import ModelCheckpoint, EarlyStopping, TensorBoard\n",
    "from keras.applications import InceptionV3, VGG16\n",
    "from keras.layers.merge import concatenate"
   ]
  },
  {
   "cell_type": "code",
   "execution_count": 8,
   "metadata": {},
   "outputs": [],
   "source": [
    "\"\"\"\n",
    "Setup training parameters\n",
    "\"\"\"\n",
    "batch_size = 2\n",
    "num_classes = 4\n",
    "inceptionv3_last_block_layer_number = 249\n",
    "vgg16_last_block_layer_number = 25\n",
    "img_width, img_height = 420, 420\n",
    "num_epoch = 30"
   ]
  },
  {
   "cell_type": "code",
   "execution_count": 15,
   "metadata": {},
   "outputs": [
    {
     "name": "stdout",
     "output_type": "stream",
     "text": [
      "Found 1019 images belonging to 4 classes.\n",
      "Found 446 images belonging to 4 classes.\n"
     ]
    }
   ],
   "source": [
    "\"\"\"\n",
    "Create image generators\n",
    "\"\"\"\n",
    "train_datagen = ImageDataGenerator()\n",
    "\n",
    "test_datagen = ImageDataGenerator()\n",
    "\n",
    "train_generator = train_datagen.flow_from_directory(\n",
    "    f'{imgs_dir}/{grid_id}/train/',\n",
    "    target_size=(img_width, img_height),\n",
    "    batch_size=2,\n",
    "    shuffle=True,\n",
    "    class_mode='categorical')\n",
    "\n",
    "test_generator = test_datagen.flow_from_directory(\n",
    "    f'{imgs_dir}/{grid_id}/test/',\n",
    "    target_size=(img_width, img_height),\n",
    "    batch_size=2,\n",
    "    shuffle=True,\n",
    "    class_mode='categorical')\n",
    "\n",
    "def my_generator(image_gen, data):\n",
    "    while True:\n",
    "        i = image_gen.batch_index\n",
    "        batch = image_gen.batch_size\n",
    "        row = data[i*batch:(i+1)*batch]\n",
    "        images, labels = image_gen.next()\n",
    "        \n",
    "        yield [images, row], labels\n",
    "    \n",
    "            \n",
    "csv_train_generator = my_generator(train_generator, x_train)\n",
    "csv_test_generator = my_generator(test_generator, x_test)"
   ]
  },
  {
   "cell_type": "code",
   "execution_count": 10,
   "metadata": {},
   "outputs": [
    {
     "data": {
      "text/plain": [
       "1019"
      ]
     },
     "execution_count": 10,
     "metadata": {},
     "output_type": "execute_result"
    }
   ],
   "source": [
    "train_generator.n"
   ]
  },
  {
   "cell_type": "markdown",
   "metadata": {},
   "source": [
    "## ONLY Images"
   ]
  },
  {
   "cell_type": "code",
   "execution_count": 16,
   "metadata": {
    "scrolled": true
   },
   "outputs": [
    {
     "name": "stdout",
     "output_type": "stream",
     "text": [
      "Epoch 1/15\n",
      "509/509 [==============================] - 169s 333ms/step - loss: 2.2158 - acc: 0.3900 - val_loss: 1.3690 - val_acc: 0.4552\n",
      "\n",
      "Epoch 00001: val_acc improved from -inf to 0.45516, saving model to models/only_images_vgg16.h5\n",
      "Epoch 2/15\n",
      "509/509 [==============================] - 180s 353ms/step - loss: 1.2448 - acc: 0.4862 - val_loss: 1.2037 - val_acc: 0.5067\n",
      "\n",
      "Epoch 00002: val_acc improved from 0.45516 to 0.50673, saving model to models/only_images_vgg16.h5\n",
      "Epoch 3/15\n",
      "509/509 [==============================] - 179s 352ms/step - loss: 1.0119 - acc: 0.5737 - val_loss: 1.2178 - val_acc: 0.5269\n",
      "\n",
      "Epoch 00003: val_acc improved from 0.50673 to 0.52691, saving model to models/only_images_vgg16.h5\n",
      "Epoch 4/15\n",
      "509/509 [==============================] - 179s 352ms/step - loss: 0.9433 - acc: 0.5914 - val_loss: 1.1444 - val_acc: 0.5090\n",
      "\n",
      "Epoch 00004: val_acc did not improve\n",
      "Epoch 5/15\n",
      "509/509 [==============================] - 179s 352ms/step - loss: 0.8616 - acc: 0.6228 - val_loss: 1.1630 - val_acc: 0.5112\n",
      "\n",
      "Epoch 00005: val_acc did not improve\n",
      "Epoch 6/15\n",
      "509/509 [==============================] - 178s 350ms/step - loss: 0.8062 - acc: 0.6572 - val_loss: 1.2753 - val_acc: 0.4753\n",
      "\n",
      "Epoch 00006: val_acc did not improve\n",
      "Epoch 7/15\n",
      "509/509 [==============================] - 179s 352ms/step - loss: 0.7624 - acc: 0.6896 - val_loss: 1.2997 - val_acc: 0.4709\n",
      "\n",
      "Epoch 00007: val_acc did not improve\n",
      "Epoch 8/15\n",
      "509/509 [==============================] - 178s 350ms/step - loss: 0.6975 - acc: 0.7210 - val_loss: 1.2207 - val_acc: 0.4978\n",
      "\n",
      "Epoch 00008: val_acc did not improve\n"
     ]
    }
   ],
   "source": [
    "\"\"\"\n",
    "Create simple classifier and use after network\n",
    "\"\"\"\n",
    "np.random.seed(7)\n",
    "main_input = Input(shape=(img_width, img_height, 3))\n",
    "base_model = VGG16(weights='imagenet', include_top=False, input_tensor=main_input)\n",
    "\n",
    "x = base_model.output\n",
    "x = GlobalAveragePooling2D()(x)\n",
    "x = Dense(1024, activation='relu')(x)\n",
    "predictions = Dense(4, activation='softmax')(x)\n",
    "\n",
    "model = Model(inputs=main_input, outputs=predictions)\n",
    "top_weights_path = 'models/only_images_vgg16.h5'\n",
    "\n",
    "for layer in base_model.layers:\n",
    "    layer.trainable = False\n",
    "\n",
    "opt = SGD(lr=0.001)\n",
    "model.compile(optimizer=opt,\n",
    "              loss='categorical_crossentropy', \n",
    "              metrics=['accuracy'])\n",
    "\n",
    "callback_list = [\n",
    "    ModelCheckpoint(top_weights_path, monitor='val_acc', verbose=1, save_best_only=True),\n",
    "    EarlyStopping(monitor='val_acc', patience=5, verbose=0),\n",
    "    TensorBoard(log_dir=f'logs/only_images_vgg16')\n",
    "]\n",
    "\n",
    "model.fit_generator(\n",
    "    train_generator,\n",
    "    steps_per_epoch= train_generator.n // batch_size,\n",
    "    epochs=15,\n",
    "    validation_data=test_generator,\n",
    "    validation_steps= test_generator.n // batch_size,\n",
    "    callbacks=callback_list)\n",
    "\n",
    "model.load_weights(top_weights_path)"
   ]
  },
  {
   "cell_type": "code",
   "execution_count": 17,
   "metadata": {
    "scrolled": true
   },
   "outputs": [
    {
     "name": "stdout",
     "output_type": "stream",
     "text": [
      "Epoch 1/15\n",
      "509/509 [==============================] - 168s 329ms/step - loss: 0.9008 - acc: 0.6031 - val_loss: 1.2178 - val_acc: 0.5269\n",
      "\n",
      "Epoch 00001: val_acc did not improve\n",
      "Epoch 2/15\n",
      "509/509 [==============================] - 176s 345ms/step - loss: 0.9006 - acc: 0.6041 - val_loss: 1.2178 - val_acc: 0.5269\n",
      "\n",
      "Epoch 00002: val_acc did not improve\n",
      "Epoch 3/15\n",
      "509/509 [==============================] - 176s 347ms/step - loss: 0.9025 - acc: 0.6041 - val_loss: 1.2178 - val_acc: 0.5269\n",
      "\n",
      "Epoch 00003: val_acc did not improve\n",
      "Epoch 4/15\n",
      "509/509 [==============================] - 177s 348ms/step - loss: 0.9008 - acc: 0.6012 - val_loss: 1.2178 - val_acc: 0.5269\n",
      "\n",
      "Epoch 00004: val_acc did not improve\n",
      "Epoch 5/15\n",
      "509/509 [==============================] - 179s 352ms/step - loss: 0.9006 - acc: 0.6061 - val_loss: 1.2178 - val_acc: 0.5269\n",
      "\n",
      "Epoch 00005: val_acc did not improve\n",
      "Epoch 6/15\n",
      "509/509 [==============================] - 176s 346ms/step - loss: 0.8981 - acc: 0.6041 - val_loss: 1.2178 - val_acc: 0.5269\n",
      "\n",
      "Epoch 00006: val_acc did not improve\n"
     ]
    }
   ],
   "source": [
    "\"\"\"\n",
    "After training for a few epochs, freeze the bottom layers, and train only on top.\n",
    "\"\"\"\n",
    "for layer in model.layers[:vgg16_last_block_layer_number]:\n",
    "    layer.trainable = False\n",
    "for layer in model.layers[vgg16_last_block_layer_number:]:\n",
    "    layer.trainable = True\n",
    "    \n",
    "opt = SGD(lr=0.001)\n",
    "model.compile(optimizer=opt,\n",
    "              loss='categorical_crossentropy',\n",
    "              metrics=['accuracy'])\n",
    "\n",
    "final_weights_path = 'models/only_images_vgg16.h5'\n",
    "\n",
    "model.fit_generator(\n",
    "    train_generator,\n",
    "    steps_per_epoch=train_generator.n // batch_size,\n",
    "    epochs=15,\n",
    "    validation_data=test_generator,\n",
    "    validation_steps=test_generator.n // batch_size,\n",
    "    callbacks=callback_list)\n",
    "\n",
    "model.save(final_weights_path)"
   ]
  },
  {
   "cell_type": "code",
   "execution_count": 20,
   "metadata": {},
   "outputs": [
    {
     "data": {
      "image/png": "[encoded data removed]",
      "text/plain": [
       "<Figure size 432x288 with 2 Axes>"
      ]
     },
     "metadata": {},
     "output_type": "display_data"
    }
   ],
   "source": [
    "from sklearn.metrics import confusion_matrix\n",
    "import matplotlib.pyplot as plt\n",
    "%matplotlib inline\n",
    "import seaborn as sns\n",
    "\n",
    "y_predict = model.predict_generator(test_generator, workers=-1)\n",
    "y_predict_classes = y_predict.argmax(axis=-1)\n",
    "\n",
    "cm = confusion_matrix(test_generator.classes, y_predict_classes)\n",
    "sns.heatmap(cm, annot=True)\n",
    "plt.title('ONLY IMAGES CM')\n",
    "plt.show()"
   ]
  },
  {
   "cell_type": "code",
   "execution_count": 19,
   "metadata": {},
   "outputs": [],
   "source": []
  },
  {
   "cell_type": "markdown",
   "metadata": {},
   "source": [
    "---\n",
    "## Images and Data"
   ]
  },
  {
   "cell_type": "code",
   "execution_count": 29,
   "metadata": {},
   "outputs": [
    {
     "name": "stdout",
     "output_type": "stream",
     "text": [
      "Epoch 1/15\n",
      "509/509 [==============================] - 185s 363ms/step - loss: 11.1623 - acc: 0.3075 - val_loss: 11.4646 - val_acc: 0.2870\n",
      "\n",
      "Epoch 00001: val_acc improved from -inf to 0.28700, saving model to models/multi_vgg16_top_model.h5\n",
      "Epoch 2/15\n",
      "509/509 [==============================] - 194s 382ms/step - loss: 10.9565 - acc: 0.3202 - val_loss: 11.6022 - val_acc: 0.2803\n",
      "\n",
      "Epoch 00002: val_acc did not improve\n",
      "Epoch 3/15\n",
      "509/509 [==============================] - 195s 383ms/step - loss: 10.9565 - acc: 0.3202 - val_loss: 11.3901 - val_acc: 0.2915\n",
      "\n",
      "Epoch 00003: val_acc improved from 0.28700 to 0.29148, saving model to models/multi_vgg16_top_model.h5\n",
      "Epoch 4/15\n",
      "509/509 [==============================] - 197s 386ms/step - loss: 11.0515 - acc: 0.3143 - val_loss: 11.6467 - val_acc: 0.2758\n",
      "\n",
      "Epoch 00004: val_acc did not improve\n",
      "Epoch 5/15\n",
      "509/509 [==============================] - 198s 389ms/step - loss: 11.0832 - acc: 0.3124 - val_loss: 11.6095 - val_acc: 0.2780\n",
      "\n",
      "Epoch 00005: val_acc did not improve\n",
      "Epoch 6/15\n",
      "509/509 [==============================] - 197s 388ms/step - loss: 10.7507 - acc: 0.3330 - val_loss: 11.2810 - val_acc: 0.2982\n",
      "\n",
      "Epoch 00006: val_acc improved from 0.29148 to 0.29821, saving model to models/multi_vgg16_top_model.h5\n",
      "Epoch 7/15\n",
      "509/509 [==============================] - 196s 385ms/step - loss: 11.1940 - acc: 0.3055 - val_loss: 11.8258 - val_acc: 0.2646\n",
      "\n",
      "Epoch 00007: val_acc did not improve\n",
      "Epoch 8/15\n",
      "509/509 [==============================] - 197s 387ms/step - loss: 11.0040 - acc: 0.3173 - val_loss: 11.5391 - val_acc: 0.2825\n",
      "\n",
      "Epoch 00008: val_acc did not improve\n",
      "Epoch 9/15\n",
      "509/509 [==============================] - 194s 382ms/step - loss: 10.7665 - acc: 0.3320 - val_loss: 11.5768 - val_acc: 0.2803\n",
      "\n",
      "Epoch 00009: val_acc did not improve\n",
      "Epoch 10/15\n",
      "509/509 [==============================] - 195s 383ms/step - loss: 11.2098 - acc: 0.3045 - val_loss: 11.7573 - val_acc: 0.2691\n",
      "\n",
      "Epoch 00010: val_acc did not improve\n",
      "Epoch 11/15\n",
      "509/509 [==============================] - 195s 383ms/step - loss: 11.0357 - acc: 0.3153 - val_loss: 11.6011 - val_acc: 0.2803\n",
      "\n",
      "Epoch 00011: val_acc did not improve\n"
     ]
    }
   ],
   "source": [
    "\"\"\"\n",
    "Create simple classifier and use after network\n",
    "\"\"\"\n",
    "\n",
    "main_input = Input(shape=(img_width, img_height, 3))\n",
    "base_model = VGG16(weights='imagenet', include_top=False, input_tensor=main_input)\n",
    "\n",
    "x = base_model.output\n",
    "x = GlobalAveragePooling2D()(x)\n",
    "x = Dense(1024, activation='relu')(x)\n",
    "\n",
    "\"\"\"\n",
    "Load Simple MLP\n",
    "\"\"\"\n",
    "aux_input = Input(shape=(features,))\n",
    "aux = Dense(4096, activation='relu')(aux_input)\n",
    "aux = Dense(4096, activation='relu')(aux)\n",
    "\n",
    "# Merge input models\n",
    "merge = concatenate([x, aux])\n",
    "# interpretation\n",
    "predictions = Dense(4, activation='softmax')(merge)\n",
    "\n",
    "model = Model(inputs=[main_input, aux_input], outputs=predictions)\n",
    "top_weights_path = 'models/multi_vgg16_top_model.h5'\n",
    "\n",
    "for layer in base_model.layers:\n",
    "    layer.trainable = False\n",
    "\n",
    "opt = SGD(lr=0.00001)\n",
    "model.compile(optimizer=opt,\n",
    "              loss='categorical_crossentropy', \n",
    "              metrics=['accuracy'])\n",
    "\n",
    "callback_list = [\n",
    "    ModelCheckpoint(top_weights_path, monitor='val_acc', verbose=1, save_best_only=True),\n",
    "    EarlyStopping(monitor='val_acc', patience=5, verbose=0),\n",
    "    TensorBoard(log_dir=f'logs/multi_vgg16')\n",
    "]\n",
    "\n",
    "model.fit_generator(\n",
    "    csv_train_generator,\n",
    "    steps_per_epoch=1019 // batch_size,\n",
    "    epochs=15,\n",
    "    validation_data=csv_test_generator,\n",
    "    validation_steps=446 // batch_size,\n",
    "    callbacks=callback_list)\n",
    "\n",
    "model.load_weights(top_weights_path)"
   ]
  },
  {
   "cell_type": "code",
   "execution_count": 30,
   "metadata": {},
   "outputs": [
    {
     "name": "stdout",
     "output_type": "stream",
     "text": [
      "Epoch 1/15\n",
      "509/509 [==============================] - 162s 319ms/step - loss: 10.9723 - acc: 0.3193 - val_loss: 11.2495 - val_acc: 0.3004\n",
      "\n",
      "Epoch 00001: val_acc improved from 0.29821 to 0.30045, saving model to models/multi_vgg16_top_model.h5\n",
      "Epoch 2/15\n",
      "509/509 [==============================] - 175s 343ms/step - loss: 10.9090 - acc: 0.3232 - val_loss: 11.4360 - val_acc: 0.2892\n",
      "\n",
      "Epoch 00002: val_acc did not improve\n",
      "Epoch 3/15\n",
      "509/509 [==============================] - 181s 357ms/step - loss: 11.2098 - acc: 0.3045 - val_loss: 11.5372 - val_acc: 0.2825\n",
      "\n",
      "Epoch 00003: val_acc did not improve\n",
      "Epoch 4/15\n",
      "509/509 [==============================] - 183s 359ms/step - loss: 10.8299 - acc: 0.3281 - val_loss: 11.4275 - val_acc: 0.2892\n",
      "\n",
      "Epoch 00004: val_acc did not improve\n",
      "Epoch 5/15\n",
      "509/509 [==============================] - 183s 359ms/step - loss: 11.1307 - acc: 0.3094 - val_loss: 11.6802 - val_acc: 0.2735\n",
      "\n",
      "Epoch 00005: val_acc did not improve\n",
      "Epoch 6/15\n",
      "509/509 [==============================] - 184s 361ms/step - loss: 11.0990 - acc: 0.3114 - val_loss: 11.6489 - val_acc: 0.2758\n",
      "\n",
      "Epoch 00006: val_acc did not improve\n"
     ]
    }
   ],
   "source": [
    "\"\"\"\n",
    "After training for a few epochs, freeze the bottom layers, and train only on top.\n",
    "\"\"\"\n",
    "for layer in model.layers[:vgg16_last_block_layer_number]:\n",
    "    layer.trainable = False\n",
    "for layer in model.layers[vgg16_last_block_layer_number:]:\n",
    "    layer.trainable = True\n",
    "    \n",
    "opt = SGD(lr=0.00001)\n",
    "model.compile(optimizer=opt,\n",
    "              loss='categorical_crossentropy',\n",
    "              metrics=['accuracy'])\n",
    "\n",
    "final_weights_path = 'models/multi_vgg16_top_model.h5'\n",
    "\n",
    "model.fit_generator(\n",
    "    csv_train_generator,\n",
    "    steps_per_epoch=1019 // batch_size,\n",
    "    epochs=15,\n",
    "    validation_data=csv_test_generator,\n",
    "    validation_steps=446 // batch_size,\n",
    "    callbacks=callback_list)\n",
    "\n",
    "model.save(final_weights_path)"
   ]
  },
  {
   "cell_type": "code",
   "execution_count": 31,
   "metadata": {},
   "outputs": [
    {
     "name": "stdout",
     "output_type": "stream",
     "text": [
      "(446,)\n",
      "(446,)\n"
     ]
    },
    {
     "data": {
      "image/png": "[encoded data removed]",
      "text/plain": [
       "<Figure size 432x288 with 2 Axes>"
      ]
     },
     "metadata": {},
     "output_type": "display_data"
    }
   ],
   "source": [
    "from sklearn.metrics import confusion_matrix\n",
    "import matplotlib.pyplot as plt\n",
    "import seaborn as sns\n",
    "\n",
    "y_predict = model.predict_generator(csv_test_generator, steps=test_generator.n/2)\n",
    "y_predict_classes = y_predict.argmax(axis=-1)\n",
    "\n",
    "print(y_predict_classes.shape)\n",
    "print(test_generator.classes.shape)\n",
    "cm = confusion_matrix(test_generator.classes, y_predict_classes)\n",
    "sns.heatmap(cm, annot=True)\n",
    "plt.title('IMAGES + DATA')\n",
    "plt.show()"
   ]
  }
 ],
 "metadata": {
  "kernelspec": {
   "display_name": "Python 3",
   "language": "python",
   "name": "python3"
  },
  "language_info": {
   "codemirror_mode": {
    "name": "ipython",
    "version": 3
   },
   "file_extension": ".py",
   "mimetype": "text/x-python",
   "name": "python",
   "nbconvert_exporter": "python",
   "pygments_lexer": "ipython3",
   "version": "3.6.3"
  }
 },
 "nbformat": 4,
 "nbformat_minor": 2
}
